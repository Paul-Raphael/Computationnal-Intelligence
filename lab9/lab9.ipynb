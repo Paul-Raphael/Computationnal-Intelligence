{
 "cells": [
  {
   "cell_type": "markdown",
   "metadata": {},
   "source": [
    "Copyright **`(c)`** 2023 Giovanni Squillero `<giovanni.squillero@polito.it>`  \n",
    "[`https://github.com/squillero/computational-intelligence`](https://github.com/squillero/computational-intelligence)  \n",
    "Free for personal or classroom use; see [`LICENSE.md`](https://github.com/squillero/computational-intelligence/blob/master/LICENSE.md) for details.  "
   ]
  },
  {
   "cell_type": "markdown",
   "metadata": {},
   "source": [
    "# LAB9\n",
    "\n",
    "Write a local-search algorithm (eg. an EA) able to solve the *Problem* instances 1, 2, 5, and 10 on a 1000-loci genomes, using a minimum number of fitness calls. That's all.\n",
    "\n",
    "### Deadlines:\n",
    "\n",
    "* Submission: Sunday, December 3 ([CET](https://www.timeanddate.com/time/zones/cet))\n",
    "* Reviews: Sunday, December 10 ([CET](https://www.timeanddate.com/time/zones/cet))\n",
    "\n",
    "Notes:\n",
    "\n",
    "* Reviews will be assigned  on Monday, December 4\n",
    "* You need to commit in order to be selected as a reviewer (ie. better to commit an empty work than not to commit)"
   ]
  },
  {
   "cell_type": "code",
   "execution_count": 1,
   "metadata": {
    "ExecuteTime": {
     "end_time": "2023-12-03T02:22:25.603598Z",
     "start_time": "2023-12-03T02:22:25.585055Z"
    }
   },
   "outputs": [],
   "source": [
    "from random import choices\n",
    "from random import random\n",
    "from random import randint\n",
    "from copy import deepcopy\n",
    "import numpy as np\n",
    "import math\n",
    "\n",
    "import lab9_lib"
   ]
  },
  {
   "cell_type": "markdown",
   "metadata": {
    "collapsed": false
   },
   "source": []
  },
  {
   "cell_type": "code",
   "execution_count": 2,
   "metadata": {
    "ExecuteTime": {
     "end_time": "2023-12-03T02:22:25.613533Z",
     "start_time": "2023-12-03T02:22:25.589998Z"
    },
    "collapsed": false
   },
   "outputs": [],
   "source": [
    "POP_SIZE = 10\n",
    "PARENT_SIZE = math.ceil(POP_SIZE / 4)\n",
    "GENOME_SIZE = 200\n",
    "PROBLEM_SIZE = 200"
   ]
  },
  {
   "cell_type": "code",
   "execution_count": 3,
   "metadata": {
    "ExecuteTime": {
     "end_time": "2023-12-03T02:22:25.629599Z",
     "start_time": "2023-12-03T02:22:25.601502Z"
    },
    "collapsed": false
   },
   "outputs": [],
   "source": [
    "class Individual:\n",
    "    genome:list\n",
    "    fitness:float\n",
    "    \n",
    "    def __init__(self, genome:list=None):\n",
    "        if genome is None:\n",
    "            genome = choices([0, 1], k=GENOME_SIZE)     \n",
    "        self.genome=genome\n",
    "        self.fitness=fitness(genome)\n",
    "        pass\n",
    "    \n",
    "    def mutate(self):\n",
    "        child = deepcopy(self)\n",
    "        nbmute:int = math.ceil((random()/self.fitness)*GENOME_SIZE*0.1)\n",
    "        if nbmute > math.ceil(GENOME_SIZE*0.5)-1:\n",
    "            nbmute = math.ceil(GENOME_SIZE*0.5)-1\n",
    "        for i in range(0,nbmute):\n",
    "            child.genome[randint(0,GENOME_SIZE-1)]^=1\n",
    "        child.fitness=fitness(child.genome)\n",
    "        return child\n",
    "\n",
    "    def recomb(self, parent2):\n",
    "        child = deepcopy(self)\n",
    "        rangelswap:int = math.ceil((random()/self.fitness)*GENOME_SIZE*0.1)\n",
    "        if rangelswap > math.ceil(GENOME_SIZE*0.75)-1 :\n",
    "            rangelswap = math.ceil(GENOME_SIZE*0.75)-1\n",
    "        child.genome = child.genome[0:GENOME_SIZE-rangelswap] + parent2.genome[GENOME_SIZE-rangelswap:]\n",
    "        child.fitness=fitness(child.genome)\n",
    "        return child\n",
    "\n",
    "\n",
    "\n",
    "class Parent:\n",
    "    parentList:[Individual]\n",
    "    \n",
    "    def __init__(self,pop:[Individual]=None):\n",
    "        if pop is None:\n",
    "            pop = [Individual() for i in range(0, POP_SIZE)]\n",
    "        self.setParentList(pop)\n",
    "        pass\n",
    "    \n",
    "    def getBestPop(self,pop:[Individual]=None)->[Individual]:\n",
    "        if pop is None:\n",
    "            return self.parentList[0].fitness\n",
    "        return sorted(pop, key=lambda x:x.fitness,reverse=True)[0:PARENT_SIZE]\n",
    "    \n",
    "    def createNewPop(self)->[Individual]:\n",
    "        newpop=[]\n",
    "        newpop = newpop + self.parentList\n",
    "        for i in range(len(self.parentList), POP_SIZE):\n",
    "            choosenparent = choices(self.parentList, [j.fitness for j in self.parentList])[0]\n",
    "            newpop.append(\n",
    "                choices(\n",
    "                    [choosenparent.mutate(), choosenparent.recomb(\n",
    "                        choices(\n",
    "                            [j for j in self.parentList if j != choosenparent],\n",
    "                            [j.fitness for j in self.parentList if j != choosenparent])[0])], \n",
    "                    [choosenparent.fitness, 1 - choosenparent.fitness])[0])\n",
    "        return newpop\n",
    "\n",
    "    def setParentList(self, pop:[Individual]):\n",
    "        self.parentList = self.getBestPop(pop)\n",
    "        pass\n",
    "\n"
   ]
  },
  {
   "cell_type": "code",
   "execution_count": 4,
   "metadata": {
    "ExecuteTime": {
     "end_time": "2023-12-03T02:22:41.675950Z",
     "start_time": "2023-12-03T02:22:25.648585Z"
    },
    "collapsed": false
   },
   "outputs": [
    {
     "name": "stdout",
     "output_type": "stream",
     "text": [
      "OK found it\n",
      "48520\n"
     ]
    }
   ],
   "source": [
    "fitness = lab9_lib.make_problem(PROBLEM_SIZE)\n",
    "\n",
    "population = [Individual() for i in range(0, POP_SIZE)]\n",
    "listofparent = Parent(population)\n",
    "while listofparent.getBestPop() != 1:\n",
    "    population = listofparent.createNewPop()\n",
    "    listofparent.setParentList(population)\n",
    "\n",
    "print(\"OK found it\")\n",
    "print(fitness.calls)\n"
   ]
  }
 ],
 "metadata": {
  "kernelspec": {
   "display_name": "ci-fLJ3OwGs-py3.12",
   "language": "python",
   "name": "python3"
  },
  "language_info": {
   "codemirror_mode": {
    "name": "ipython",
    "version": 3
   },
   "file_extension": ".py",
   "mimetype": "text/x-python",
   "name": "python",
   "nbconvert_exporter": "python",
   "pygments_lexer": "ipython3",
   "version": "3.11.6"
  }
 },
 "nbformat": 4,
 "nbformat_minor": 2
}
