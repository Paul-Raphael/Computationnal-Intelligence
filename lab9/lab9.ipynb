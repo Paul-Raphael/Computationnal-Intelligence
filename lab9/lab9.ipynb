{
 "cells": [
  {
   "cell_type": "markdown",
   "metadata": {},
   "source": [
    "Copyright **`(c)`** 2023 Giovanni Squillero `<giovanni.squillero@polito.it>`  \n",
    "[`https://github.com/squillero/computational-intelligence`](https://github.com/squillero/computational-intelligence)  \n",
    "Free for personal or classroom use; see [`LICENSE.md`](https://github.com/squillero/computational-intelligence/blob/master/LICENSE.md) for details.  "
   ]
  },
  {
   "cell_type": "markdown",
   "metadata": {},
   "source": [
    "# LAB9\n",
    "\n",
    "Write a local-search algorithm (eg. an EA) able to solve the *Problem* instances 1, 2, 5, and 10 on a 1000-loci genomes, using a minimum number of fitness calls. That's all.\n",
    "\n",
    "### Deadlines:\n",
    "\n",
    "* Submission: Sunday, December 3 ([CET](https://www.timeanddate.com/time/zones/cet))\n",
    "* Reviews: Sunday, December 10 ([CET](https://www.timeanddate.com/time/zones/cet))\n",
    "\n",
    "Notes:\n",
    "\n",
    "* Reviews will be assigned  on Monday, December 4\n",
    "* You need to commit in order to be selected as a reviewer (ie. better to commit an empty work than not to commit)"
   ]
  },
  {
   "cell_type": "code",
   "execution_count": 3,
   "metadata": {
    "ExecuteTime": {
     "end_time": "2023-11-28T11:49:48.484360Z",
     "start_time": "2023-11-28T11:49:48.450223Z"
    }
   },
   "outputs": [],
   "source": [
    "from random import choices\n",
    "import numpy as np\n",
    "import math\n",
    "\n",
    "import lab9_lib"
   ]
  },
  {
   "cell_type": "code",
   "execution_count": 4,
   "metadata": {
    "collapsed": false
   },
   "outputs": [],
   "source": [
    "PROBLEM_SIZE = 10"
   ]
  },
  {
   "cell_type": "code",
   "execution_count": 5,
   "metadata": {
    "collapsed": false
   },
   "outputs": [],
   "source": [
    "class Parent:\n",
    "    genome:list\n",
    "    fitness:float = 0.0\n",
    "\n",
    "def choseParent(ind):\n",
    "    p = [ Parent() in range(0, math.ceil(PROBLEM_SIZE/2)-1)]\n",
    "    for i in ind:\n",
    "        fitness(ind)\n",
    "    return \n",
    "\n",
    "def mutate():\n",
    "    return \n",
    "\n",
    "def recomb():\n",
    "    return "
   ]
  },
  {
   "cell_type": "code",
   "execution_count": 245,
   "metadata": {
    "ExecuteTime": {
     "end_time": "2023-11-28T13:18:07.718327Z",
     "start_time": "2023-11-28T13:18:07.710417Z"
    }
   },
   "outputs": [
    {
     "name": "stdout",
     "output_type": "stream",
     "text": [
      "1011100011001000100011001110011101010011110111101011011000110000010111011110001110111001101001011100: 25.40%\n",
      "1001100101000111111001000101100011111110110001000001000011100000001110000010001101000010100001111001: 19.90%\n",
      "1100010101001011011111110100100010110001001001110010001100011000010101110000110101000001011101001100: 26.20%\n",
      "1111010111001000000111111100011011111100010010100101010110111000111111111100101111111110100110000011: 60.00%\n",
      "1111100111101101110000001110000011001000010010111111010101100000110001000000110011100001111011011000: 48.00%\n",
      "1101011000101100100111010111101010111111001000101111100011011101111011110101010111010111100111101100: 29.00%\n",
      "0110000011000010000100110011001101000010111110011111010100001010001101001010100110001110110111010111: 48.00%\n",
      "0111101001000010011100010100000100011111000011000101001101011011001101011000011101101010001001101000: 23.00%\n",
      "1011101000011001110000111110111011100010010010111100000010111010101101100001000101001010101001000100: 26.10%\n",
      "0110110010011001010101011110001110000110110100010011011111010111011110101010000001110011110110101101: 27.50%\n",
      "10\n"
     ]
    }
   ],
   "source": [
    "fitness = lab9_lib.make_problem(2)\n",
    "p=[]\n",
    "for n in range(10):\n",
    "    ind = choices([0, 1], k=100)\n",
    "    p.append(ind)\n",
    "    print(f\"{''.join(str(g) for g in ind)}: {fitness(ind):.2%}\")\n",
    "\n",
    "print(fitness.calls)\n"
   ]
  },
  {
   "cell_type": "code",
   "execution_count": 246,
   "metadata": {
    "ExecuteTime": {
     "end_time": "2023-11-28T13:18:50.073742Z",
     "start_time": "2023-11-28T13:18:50.068863Z"
    }
   },
   "outputs": [
    {
     "name": "stdout",
     "output_type": "stream",
     "text": [
      "[1, 1, 0, 0, 1, 0, 1, 0, 0, 1, 1, 0, 1, 0, 0, 0, 1, 0, 1, 1, 1, 0, 0, 1, 1, 0, 0, 1, 1, 0, 0, 1, 1, 1, 1, 0, 1, 0, 0, 0, 0, 1, 0, 1, 0, 0, 1, 1, 0, 1, 0, 1, 1, 1, 1, 1, 1, 0, 1, 0, 0, 0, 0, 0, 1, 0, 0, 1, 1, 1, 1, 0, 0, 0, 0, 0, 0, 0, 1, 1, 0, 0, 1, 0, 0, 1, 0, 0, 0, 1, 1, 1, 0, 1, 1, 1, 1, 1, 0, 1]: 23.60%\n",
      "[0, 1, 1, 0, 0, 0, 0, 0, 1, 1, 0, 0, 0, 0, 1, 0, 0, 0, 0, 1, 0, 0, 1, 1, 0, 0, 1, 1, 0, 0, 1, 1, 0, 1, 0, 0, 0, 0, 1, 0, 1, 1, 1, 1, 1, 0, 0, 1, 1, 1, 1, 1, 0, 1, 0, 1, 0, 0, 0, 0, 1, 0, 1, 0, 0, 0, 1, 1, 0, 1, 0, 0, 1, 0, 1, 0, 1, 0, 0, 1, 1, 0, 0, 0, 1, 1, 1, 0, 1, 1, 0, 1, 1, 1, 0, 1, 0, 1, 1, 1]: 48.00%\n",
      "[0, 0, 1, 1, 0, 1, 0, 1, 1, 0, 0, 1, 0, 1, 1, 1, 0, 1, 0, 0, 0, 1, 1, 0, 0, 1, 1, 0, 0, 1, 1, 0, 0, 0, 0, 1, 0, 1, 1, 1, 1, 0, 1, 0, 1, 1, 0, 0, 1, 0, 1, 0, 0, 0, 0, 0, 0, 1, 0, 1, 1, 1, 1, 1, 0, 1, 1, 0, 0, 0, 0, 1, 1, 1, 1, 1, 1, 1, 0, 0, 1, 1, 0, 1, 1, 0, 1, 1, 1, 0, 0, 0, 1, 0, 0, 0, 0, 0, 1, 0]: 23.60%\n"
     ]
    }
   ],
   "source": [
    "x = 6\n",
    "for i in range(0,len(p[x]),2):\n",
    "    p[x][i] = abs(p[x][i]-1)\n",
    "print(f\"{p[x]}: {fitness(p[x]):.2%}\")\n",
    "for i in range(0,len(p[x]),2):\n",
    "    p[x][i] = abs(p[x][i]-1)\n",
    "print(f\"{p[x]}: {fitness(p[x]):.2%}\")\n",
    "for i in range(1,len(p[x]),2):\n",
    "    p[x][i] = abs(p[x][i]-1)\n",
    "print(f\"{p[x]}: {fitness(p[x]):.2%}\")\n"
   ]
  },
  {
   "cell_type": "code",
   "execution_count": 247,
   "metadata": {},
   "outputs": [
    {
     "name": "stdout",
     "output_type": "stream",
     "text": [
      "[0, 1, 0, 1, 0, 1, 0, 1, 0, 1, 0, 1, 0, 1, 0, 1, 0, 1, 0, 1, 0, 1, 0, 1, 0, 1, 0, 1, 0, 1, 0, 1, 0, 1, 0, 1, 0, 1, 0, 1, 0, 1, 0, 1, 0, 1, 0, 1, 0, 1, 0, 1, 0, 1, 0, 1, 0, 1, 0, 1, 0, 1, 0, 1, 0, 1, 0, 1, 0, 1, 0, 1, 0, 1, 0, 1, 0, 1, 0, 1, 0, 1, 0, 1, 0, 1, 0, 1, 0, 1, 0, 1, 0, 1, 0, 1, 0, 1, 0, 1]: 50.00%\n"
     ]
    }
   ],
   "source": [
    "for i in range(len(p[x])):\n",
    "    fit = fitness(p[x])\n",
    "    p[x][i] = abs(p[x][i]-1)\n",
    "    if fitness(p[x]) < fit:\n",
    "       p[x][i] = abs(p[x][i]-1) \n",
    "print(f\"{p[x]}: {fitness(p[x]):.2%}\")"
   ]
  }
 ],
 "metadata": {
  "kernelspec": {
   "display_name": "ci-fLJ3OwGs-py3.12",
   "language": "python",
   "name": "python3"
  },
  "language_info": {
   "codemirror_mode": {
    "name": "ipython",
    "version": 3
   },
   "file_extension": ".py",
   "mimetype": "text/x-python",
   "name": "python",
   "nbconvert_exporter": "python",
   "pygments_lexer": "ipython3",
   "version": "3.11.6"
  }
 },
 "nbformat": 4,
 "nbformat_minor": 2
}
