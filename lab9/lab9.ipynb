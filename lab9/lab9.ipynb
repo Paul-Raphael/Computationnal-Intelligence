{
 "cells": [
  {
   "cell_type": "markdown",
   "metadata": {},
   "source": [
    "Copyright **`(c)`** 2023 Giovanni Squillero `<giovanni.squillero@polito.it>`  \n",
    "[`https://github.com/squillero/computational-intelligence`](https://github.com/squillero/computational-intelligence)  \n",
    "Free for personal or classroom use; see [`LICENSE.md`](https://github.com/squillero/computational-intelligence/blob/master/LICENSE.md) for details.  "
   ]
  },
  {
   "cell_type": "markdown",
   "metadata": {},
   "source": [
    "# LAB9\n",
    "\n",
    "Write a local-search algorithm (eg. an EA) able to solve the *Problem* instances 1, 2, 5, and 10 on a 1000-loci genomes, using a minimum number of fitness calls. That's all.\n",
    "\n",
    "### Deadlines:\n",
    "\n",
    "* Submission: Sunday, December 3 ([CET](https://www.timeanddate.com/time/zones/cet))\n",
    "* Reviews: Sunday, December 10 ([CET](https://www.timeanddate.com/time/zones/cet))\n",
    "\n",
    "Notes:\n",
    "\n",
    "* Reviews will be assigned  on Monday, December 4\n",
    "* You need to commit in order to be selected as a reviewer (ie. better to commit an empty work than not to commit)"
   ]
  },
  {
   "cell_type": "code",
   "execution_count": 3,
   "metadata": {
    "ExecuteTime": {
     "end_time": "2023-11-28T11:49:48.484360Z",
     "start_time": "2023-11-28T11:49:48.450223Z"
    }
   },
   "outputs": [],
   "source": [
    "from random import choices\n",
    "import numpy as np\n",
    "import math\n",
    "\n",
    "import lab9_lib"
   ]
  },
  {
   "cell_type": "code",
   "execution_count": null,
   "outputs": [],
   "source": [
    "PROBLEM_SIZE = 10"
   ],
   "metadata": {
    "collapsed": false
   }
  },
  {
   "cell_type": "code",
   "execution_count": null,
   "outputs": [],
   "source": [
    "class Parent:\n",
    "    genome:list\n",
    "    fitness:float = 0.0\n",
    "\n",
    "def choseParent(ind):\n",
    "    p = [ Parent() in range(0, math.ceil(PROBLEM_SIZE/2)-1)]\n",
    "    for i in ind:\n",
    "        fitness(ind)\n",
    "    return \n",
    "\n",
    "def mutate():\n",
    "    return \n",
    "\n",
    "def recomb():\n",
    "    return "
   ],
   "metadata": {
    "collapsed": false
   }
  },
  {
   "cell_type": "code",
   "execution_count": 68,
   "metadata": {
    "ExecuteTime": {
     "end_time": "2023-11-28T13:18:07.718327Z",
     "start_time": "2023-11-28T13:18:07.710417Z"
    }
   },
   "outputs": [
    {
     "name": "stdout",
     "output_type": "stream",
     "text": [
      "10000101110011001001001001010100010000111110111100: 7.33%\n",
      "11000100000100111000101010000000010111000000111011: 7.34%\n",
      "01111000110101011000111101110110010111100101100110: 9.13%\n",
      "11000010101100110011001101000111100110110100110010: 23.34%\n",
      "01111101010000111010110011101100100111011001101010: 23.34%\n",
      "01011001101010101110011100101110000010110011111011: 9.13%\n",
      "10110010100010001010111011010011100000010100001010: 7.33%\n",
      "11110010011011101011101000010000001111001110000100: 15.34%\n",
      "01010101101010011010110011111100110010110110110110: 9.13%\n",
      "00000101111001001101110000001011000010101011101100: 7.33%\n",
      "10\n"
     ]
    }
   ],
   "source": [
    "fitness = lab9_lib.make_problem(10)\n",
    "p=[]\n",
    "for n in range(10):\n",
    "    ind = choices([0, 1], k=50)\n",
    "    p.append(ind)\n",
    "    print(f\"{''.join(str(g) for g in ind)}: {fitness(ind):.2%}\")\n",
    "\n",
    "print(fitness.calls)\n"
   ]
  },
  {
   "cell_type": "code",
   "execution_count": 71,
   "metadata": {
    "ExecuteTime": {
     "end_time": "2023-11-28T13:18:50.073742Z",
     "start_time": "2023-11-28T13:18:50.068863Z"
    }
   },
   "outputs": [
    {
     "name": "stdout",
     "output_type": "stream",
     "text": [
      "[0, 0, 1, 1, 1, 0, 1, 1, 1, 1, 1, 0, 1, 1, 0, 0, 0, 1, 1, 1, 0, 1, 0, 1, 0, 1, 1, 1, 1, 1, 1, 1, 1, 0, 1, 0, 0, 0, 1, 1, 1, 1, 1, 1, 0, 0, 0, 1, 0, 0]: 39.34%\n"
     ]
    }
   ],
   "source": [
    "x = 1\n",
    "for i in range(len(p[x])):\n",
    "    p[x][i] = abs(p[x][i]-1)\n",
    "print(f\"{p[x]}: {fitness(p[x]):.2%}\")"
   ]
  }
 ],
 "metadata": {
  "kernelspec": {
   "display_name": "ci-fLJ3OwGs-py3.12",
   "language": "python",
   "name": "python3"
  },
  "language_info": {
   "codemirror_mode": {
    "name": "ipython",
    "version": 3
   },
   "file_extension": ".py",
   "mimetype": "text/x-python",
   "name": "python",
   "nbconvert_exporter": "python",
   "pygments_lexer": "ipython3",
   "version": "3.12.0"
  }
 },
 "nbformat": 4,
 "nbformat_minor": 2
}
