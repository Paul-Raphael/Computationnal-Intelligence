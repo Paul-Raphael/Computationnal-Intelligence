{
 "cells": [
  {
   "cell_type": "markdown",
   "metadata": {},
   "source": [
    "Copyright **`(c)`** 2023 Giovanni Squillero `<giovanni.squillero@polito.it>`  \n",
    "[`https://github.com/squillero/computational-intelligence`](https://github.com/squillero/computational-intelligence)  \n",
    "Free for personal or classroom use; see [`LICENSE.md`](https://github.com/squillero/computational-intelligence/blob/master/LICENSE.md) for details.  "
   ]
  },
  {
   "cell_type": "markdown",
   "metadata": {},
   "source": [
    "# LAB10\n",
    "\n",
    "Use reinforcement learning to devise a tic-tac-toe player.\n",
    "\n",
    "### Deadlines:\n",
    "\n",
    "* Submission: [Dies Natalis Solis Invicti](https://en.wikipedia.org/wiki/Sol_Invictus)\n",
    "* Reviews: [Befana](https://en.wikipedia.org/wiki/Befana)\n",
    "\n",
    "Notes:\n",
    "\n",
    "* Reviews will be assigned  on Monday, December 4\n",
    "* You need to commit in order to be selected as a reviewer (ie. better to commit an empty work than not to commit)"
   ]
  },
  {
   "cell_type": "code",
   "execution_count": null,
   "metadata": {
    "collapsed": false
   },
   "outputs": [],
   "source": [
    "import numpy as np\n",
    "from itertools import combinations\n",
    "from collections import namedtuple, defaultdict\n",
    "from random import choice\n",
    "from copy import deepcopy"
   ]
  },
  {
   "cell_type": "code",
   "execution_count": null,
   "metadata": {
    "collapsed": false
   },
   "outputs": [],
   "source": [
    "class Play:\n",
    "    state:[]\n",
    "    position:int\n",
    "    \n",
    "    def __init__(self, position, state):\n",
    "        self.position=position\n",
    "        self.state = state\n",
    "        pass\n",
    "    \n",
    "\n",
    "class Player:\n",
    "    def play(self,turn, token, state)->Play:\n",
    "        pass \n",
    "    \n",
    "    def wintrain(self, token_winner, token):\n",
    "        pass\n",
    "    def win(self):\n",
    "        pass\n",
    "\n",
    "class Game:\n",
    "    play_list :[Play]\n",
    "    player_list :[Player]\n",
    "    \n",
    "    def __init__(self, player1, player2):\n",
    "        self.player_list.append(player1)\n",
    "        self.player_list.append(player2)\n",
    "        pass\n",
    "    \n",
    "    def starttrain(self):\n",
    "        \n",
    "        turn = 0\n",
    "        token = 1\n",
    "        currentplayer = self.player_list[0]\n",
    "        self.play_list[turn] = currentplayer.play(turn, token,[0 for i in range(0,9)])\n",
    "        turn = 1\n",
    "        token *= -1\n",
    "        currentplayer = self.player_list[1]\n",
    "            \n",
    "        while turn < 3 or not(self.win(self.play_list[turn-1].state,token*-1)) or turn < 9 :\n",
    "            self.play_list[turn] = currentplayer.play(turn-(turn%2==1)//2,token, self.play_list[turn-1].state)\n",
    "            turn +=1\n",
    "            token*=-1\n",
    "            currentplayer = self.player_list[0] if token == 1 else currentplayer = self.player_list[1]\n",
    "            \n",
    "        if self.win(self.play_list[turn-1].state,token*-1):\n",
    "            self.player_list[0].wintrain(token*-1,1)\n",
    "            self.player_list[1].wintrain(token*-1,-1)\n",
    "        else:\n",
    "            self.player_list[0].wintrain(0,1)\n",
    "            self.player_list[1].wintrain(0,-1)\n",
    "        pass\n",
    "    \n",
    "    def win(self,elements,token):\n",
    "        \"\"\"Checks is elements is winning\"\"\"\n",
    "        listdumb = []\n",
    "        for i in range(0,len(elements)):\n",
    "            if elements[i] == token:\n",
    "                listdumb.append(i+1)\n",
    "        return any(sum(c) == 15 for c in combinations(listdumb, 3))\n",
    "\n",
    "    def trygame(self):\n",
    "        turn = 0\n",
    "        token = 1\n",
    "        currentplayer = self.player_list[0]\n",
    "        self.play_list[turn] = currentplayer.play(turn, token,[0 for i in range(0,9)])\n",
    "        turn = 1\n",
    "        token *= -1\n",
    "        currentplayer = self.player_list[1]\n",
    "            \n",
    "        while turn < 3 or not(self.win(self.play_list[turn-1].state,token*-1)) or turn < 9 :\n",
    "            self.play_list[turn] = currentplayer.play(turn-(turn%2==1)//2,token, self.play_list[turn-1].state)\n",
    "            turn +=1\n",
    "            token*=-1\n",
    "            currentplayer = self.player_list[0] if token == 1 else currentplayer = self.player_list[1]\n",
    "            \n",
    "        if self.win(self.play_list[turn-1].state,token*-1):\n",
    "            self.player_list[0].win()\n",
    "            self.player_list[1].win()\n",
    "            print('player 1 who has token'+token*-1+'win (like if it is -1 this is good')\n",
    "        else:\n",
    "            self.player_list[0].win()\n",
    "            self.player_list[1].win()\n",
    "            print('nobody win')\n",
    "        pass\n",
    "    "
   ]
  },
  {
   "cell_type": "code",
   "execution_count": 2,
   "metadata": {
    "ExecuteTime": {
     "end_time": "2023-12-24T16:40:07.022071Z",
     "start_time": "2023-12-24T16:40:07.012655Z"
    },
    "collapsed": false
   },
   "outputs": [
    {
     "name": "stdout",
     "output_type": "stream",
     "text": [
      "[0, 0, 0, 0, 0, 0, 0, 0, 0]\n"
     ]
    }
   ],
   "source": [
    "class RandomPlayer(Player):\n",
    "    def play(self, turn ,token, state) ->Play:\n",
    "        dumblist = []\n",
    "        for i in range(0,len(state)):\n",
    "            if state[i]==0:\n",
    "                dumblist.append(i)\n",
    "        choosen = choice(dumblist)[0]\n",
    "        state[choosen-1] = 1*token\n",
    "        return Play(choosen, state)\n",
    "        \n",
    "    def win(self, token_winner, token):\n",
    "        pass\n",
    "    "
   ]
  },
  {
   "cell_type": "code",
   "execution_count": null,
   "metadata": {
    "collapsed": false
   },
   "outputs": [],
   "source": [
    "class Cell:\n",
    "    position:int\n",
    "    rewardCount = 0\n",
    "    stateWin = []\n",
    "    nbStateWin = 0\n",
    "    \n",
    "    def __init__(self, position, stateWin = None):\n",
    "        self.position=position\n",
    "        if stateWin is not None:\n",
    "            self.stateWin=stateWin\n",
    "        pass\n",
    "        \n",
    "    \n",
    "class RenforcementPlayer(Player):\n",
    "    memoryCell:[[Cell]]\n",
    "    renforcementCell:[Cell]\n",
    "    \n",
    "    def __init__(self):\n",
    "        self.memoryCell = [[Cell(j) for j in range(1,10)]for i in range(0,5)]\n",
    "    \n",
    "    def play(self, turn, token, state) ->Play:\n",
    "        state = [i*token for i in state]\n",
    "        list_to_manipulate = sorted(self.memoryCell[turn], key=lambda x:x.rewardCount,reverse=True)\n",
    "        for i in list_to_manipulate:\n",
    "            if i.stateWin == state:\n",
    "                list_to_manipulate = [list_to_manipulate[i]] + list_to_manipulate[:i]+list_to_manipulate[i+1:]\n",
    "                if abs(list_to_manipulate[0]-list_to_manipulate[1])<=50 :\n",
    "                    for j in range(0,9):\n",
    "                        if state[list_to_manipulate[0].position-1] == 0 :\n",
    "                            state[list_to_manipulate[0].position-1] = 1\n",
    "                            self.renforcementCell.append(Cell(list_to_manipulate[0].position,state))    \n",
    "                            state = [i*token for i in state]\n",
    "                            return Play(list_to_manipulate[0].position,state)\n",
    "                else:\n",
    "                     for j in range(0,9):\n",
    "                        if state[list_to_manipulate[0].position-1] == 0 :\n",
    "                            state[list_to_manipulate[0].position-1] = 1\n",
    "                            self.renforcementCell.append(Cell(list_to_manipulate[0].position,state))    \n",
    "                            state = [i*token for i in state]\n",
    "                            return Play(list_to_manipulate[0].position,state)\n",
    "        for i in range(0,9):\n",
    "            if state[list_to_manipulate[0].position-1] == 0 :\n",
    "                state[list_to_manipulate[0].position-1] = 1\n",
    "                self.renforcementCell.append(Cell(list_to_manipulate[0].position,state))    \n",
    "                state = [i*token for i in state]\n",
    "                return Play(list_to_manipulate[0].position,state)\n",
    "        \n",
    "    def win(self):\n",
    "        self.renforcementCell=[]\n",
    "        pass\n",
    "        \n",
    "    \n",
    "    def wintrain(self, token_winner, token):\n",
    "        count = 1 if token == -1 else 0\n",
    "        if token_winner == token:\n",
    "            for i in self.renforcementCell:\n",
    "                self.memoryCell[count][i.position-1].rewardCount += 1 + count\n",
    "                if self.memoryCell[count][i.position-1].stateWin == i.stateWin :\n",
    "                    self.memoryCell[count][i.position-1].nbStateWin +=2\n",
    "                else:\n",
    "                    if self.memoryCell[count][i.position-1].nbStateWin <= 0: \n",
    "                        self.memoryCell[count][i.position-1].stateWin = i.stateWin\n",
    "                        self.memoryCell[count][i.position-1].nbStateWin = 0\n",
    "                    else:\n",
    "                        self.memoryCell[count][i.position-1].nbStateWin -= 2\n",
    "            count+=1\n",
    "        elif token == 0:\n",
    "            for i in self.renforcementCell:\n",
    "                self.memoryCell[count][i.position-1].rewardCount +=1\n",
    "                count+=1\n",
    "        else:\n",
    "            for i in self.renforcementCell:\n",
    "                self.memoryCell[count][i.position-1].rewardCount -= 2*(1 + count)\n",
    "                if self.memoryCell[count][i.position-1].stateWin == i.stateWin :\n",
    "                    self.memoryCell[count][i.position-1].nbStateWin -=4\n",
    "            count+=1\n",
    "        self.renforcementCell = []\n",
    "    pass\n",
    "                    \n",
    "                "
   ]
  },
  {
   "cell_type": "code",
   "execution_count": 24,
   "metadata": {
    "ExecuteTime": {
     "end_time": "2023-12-24T19:37:21.813175Z",
     "start_time": "2023-12-24T19:37:21.801105Z"
    },
    "collapsed": false
   },
   "outputs": [
    {
     "name": "stdout",
     "output_type": "stream",
     "text": [
      "[3, 1, 2]\n"
     ]
    }
   ],
   "source": [
    "player1 = RandomPlayer()\n",
    "player2 = RenforcementPlayer()\n",
    "gametictac = Game(player1,player2)\n",
    "for i in range(0,200):\n",
    "    gametictac.starttrain()\n",
    "print('train done')\n"
   ]
  },
  {
   "cell_type": "code",
   "execution_count": null,
   "metadata": {
    "collapsed": false
   },
   "outputs": [],
   "source": [
    "gametictac.trygame()"
   ]
  }
 ],
 "metadata": {
  "kernelspec": {
   "display_name": "ci-fLJ3OwGs-py3.12",
   "language": "python",
   "name": "python3"
  },
  "language_info": {
   "codemirror_mode": {
    "name": "ipython",
    "version": 3
   },
   "file_extension": ".py",
   "mimetype": "text/x-python",
   "name": "python",
   "nbconvert_exporter": "python",
   "pygments_lexer": "ipython3",
   "version": "3.11.6"
  }
 },
 "nbformat": 4,
 "nbformat_minor": 2
}
