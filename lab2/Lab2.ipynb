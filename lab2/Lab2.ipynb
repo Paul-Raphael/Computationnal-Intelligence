{
 "cells": [
  {
   "cell_type": "code",
   "execution_count": 71,
   "metadata": {},
   "outputs": [],
   "source": [
    "from random import random, choice, randint\n",
    "from collections import namedtuple\n",
    "from pprint import pprint, pformat\n",
    "import random\n",
    "import numpy as np\n",
    "from copy import copy, deepcopy\n",
    "import logging\n",
    "from dataclasses import dataclass\n"
   ]
  },
  {
   "cell_type": "code",
   "execution_count": 72,
   "metadata": {},
   "outputs": [],
   "source": [
    "Nimply = namedtuple(\"Nimply\", \"row, num_objects\")\n"
   ]
  },
  {
   "cell_type": "code",
   "execution_count": 73,
   "metadata": {},
   "outputs": [],
   "source": [
    "class Nim:\n",
    "    def __init__(self, num_rows: int, k: int = None) -> None:\n",
    "        self._rows = [i * 2 + 1 for i in range(num_rows)]\n",
    "        self._k = k\n",
    "\n",
    "    def __bool__(self): #The __bool__ method returns True if there are objects remaining in any row, indicating that the game is not over\n",
    "        return sum(self._rows) > 0\n",
    "\n",
    "    def __str__(self):\n",
    "        return \"<\" + \" \".join(str(_) for _ in self._rows) + \">\"\n",
    "\n",
    "    @property\n",
    "    def rows(self) -> tuple:\n",
    "        return tuple(self._rows)\n",
    "\n",
    "    def nimming(self, ply: Nimply) -> None:\n",
    "        row, num_objects = ply\n",
    "        assert self._rows[row] >= num_objects\n",
    "        assert self._k is None or num_objects <= self._k\n",
    "        self._rows[row] -= num_objects\n"
   ]
  },
  {
   "cell_type": "code",
   "execution_count": 74,
   "metadata": {},
   "outputs": [],
   "source": [
    "def pure_random(state: Nim) -> Nimply:\n",
    "    \"\"\"A completely random move\"\"\"\n",
    "    row = random.choice([r for r, c in enumerate(state.rows) if c > 0])\n",
    "    num_objects = random.randint(1, state.rows[row])\n",
    "    return Nimply(row, num_objects)\n"
   ]
  },
  {
   "cell_type": "code",
   "execution_count": 75,
   "metadata": {},
   "outputs": [],
   "source": [
    "def gabriele(state: Nim) -> Nimply:\n",
    "    \"\"\"Pick always the maximum possible number of the lowest row\"\"\"\n",
    "    possible_moves = [(r, o) for r, c in enumerate(state.rows) for o in range(1, c + 1)]\n",
    "    return Nimply(*max(possible_moves, key=lambda m: (-m[0], m[1])))\n"
   ]
  },
  {
   "cell_type": "code",
   "execution_count": 77,
   "metadata": {},
   "outputs": [],
   "source": [
    "import numpy as np\n",
    "\n",
    "\n",
    "def nim_sum(state: Nim) -> int:\n",
    "    tmp = np.array([tuple(int(x) for x in f\"{c:032b}\") for c in state.rows])\n",
    "    xor = tmp.sum(axis=0) % 2\n",
    "    return int(\"\".join(str(_) for _ in xor), base=2)\n",
    "\n",
    "\n",
    "def analize(raw: Nim) -> dict:\n",
    "    cooked = dict()\n",
    "    cooked[\"possible_moves\"] = dict()\n",
    "    for ply in (Nimply(r, o) for r, c in enumerate(raw.rows) for o in range(1, c + 1)):\n",
    "        tmp = deepcopy(raw)\n",
    "        tmp.nimming(ply)\n",
    "        cooked[\"possible_moves\"][ply] = nim_sum(tmp)\n",
    "    return cooked\n",
    "\n",
    "\n",
    "def optimal(state: Nim) -> Nimply:\n",
    "    analysis = analize(state)\n",
    "    logging.debug(f\"analysis:\\n{pformat(analysis)}\")\n",
    "    spicy_moves = [ply for ply, ns in analysis[\"possible_moves\"].items() if ns != 0]\n",
    "    if not spicy_moves:\n",
    "        spicy_moves = list(analysis[\"possible_moves\"].keys())\n",
    "    ply = random.choice(spicy_moves)\n",
    "    return ply\n"
   ]
  },
  {
   "cell_type": "code",
   "execution_count": 78,
   "metadata": {},
   "outputs": [],
   "source": [
    "POPULATION_SIZE = 30\n",
    "OFFSPRING_SIZE = 20\n",
    "TOURNAMENT_SIZE = 2\n",
    "MUTATION_PROBABILITY = .80\n",
    "RULES_SIZE=3\n",
    "size_game=4\n",
    "list_strategies= [pure_random, gabriele, optimal]\n"
   ]
  },
  {
   "cell_type": "code",
   "execution_count": 79,
   "metadata": {},
   "outputs": [],
   "source": [
    "\n",
    "@dataclass\n",
    "class Individual():\n",
    "    genotype: []\n",
    "    fitness : float\n",
    "\n",
    "\n",
    "def select_parent(pop):\n",
    "    pool = [choice(pop) for _ in range(TOURNAMENT_SIZE)]        #list of possibleMove elements\n",
    "    champion = max(pool, key=lambda individual: individual.fitness)     #one possibleMove element with the best nim_sum\n",
    "    return champion\n",
    "\n",
    "\n",
    "def mutate(individual) :     #mutates the number of objects to remove from the same unchanged row OR mutates the row \n",
    "    genotype= individual.genotype\n",
    "    # Choose an index to change\n",
    "    index_to_change = random.randint(0, len(genotype) - 1)\n",
    "\n",
    "    # Generate a random value for the change\n",
    "    change = random.uniform(-0.1, 0.1)  # You can adjust the range as needed\n",
    "\n",
    "    # Apply the change to the chosen index\n",
    "    genotype[index_to_change] += change\n",
    "\n",
    "    # Ensure the modified value is between 0 and 1\n",
    "    genotype[index_to_change] = max(0, min(1, genotype[index_to_change]))\n",
    "\n",
    "    # Adjust the other values to maintain the sum equal to 1\n",
    "    total = sum(genotype)\n",
    "    genotype = [value / total for value in genotype]\n",
    "\n",
    "    individual.genotype= genotype\n",
    "    return individual\n",
    "\n"
   ]
  },
  {
   "cell_type": "code",
   "execution_count": 80,
   "metadata": {},
   "outputs": [],
   "source": [
    "def play(first,genotype , strategy_player1):\n",
    "    # Choose the best PossibleMove in the population and play Nim against the pure random strategy\n",
    "    \n",
    "    nim = Nim(size_game)\n",
    "    player = first\n",
    "    while nim:\n",
    "        chosen_strat = random.choices(list_strategies, genotype)[0]\n",
    "        strategy = ( chosen_strat, strategy_player1)\n",
    "        ply = strategy[player](nim)\n",
    "        nim.nimming(ply)\n",
    "        player = 1 - player\n",
    "    \n",
    "    return player\n"
   ]
  },
  {
   "cell_type": "code",
   "execution_count": 81,
   "metadata": {},
   "outputs": [],
   "source": [
    "def fitness(genotype):#returns the rate of winning the game after playing it 'nb_game' times with one same genotype mbut against differents types of opponent's strategies\n",
    "    win=0\n",
    "    first=0\n",
    "    strategies_opponent= list_strategies\n",
    "    nb_game=20\n",
    "    for i in range (nb_game):\n",
    "        opponent= strategies_opponent[i%RULES_SIZE] # A verifier les effets de bords\n",
    "        val= play(first, genotype, opponent)\n",
    "        first=1-first\n",
    "        if val == 0:\n",
    "            win+=1\n",
    "    \n",
    "    win_rate= win/nb_game\n",
    "    return win_rate"
   ]
  },
  {
   "cell_type": "code",
   "execution_count": 82,
   "metadata": {},
   "outputs": [],
   "source": [
    "def random_genotype():      #returns a random genotype\n",
    "    random_genotype=[]\n",
    "    for i in range(RULES_SIZE):\n",
    "        random_weights = [random.random() for _ in range(RULES_SIZE)]\n",
    "        \n",
    "    total = sum(random_weights)\n",
    "    random_genotype = [value / total for value in random_weights]\n",
    "    \n",
    "    return random_genotype"
   ]
  },
  {
   "cell_type": "code",
   "execution_count": 83,
   "metadata": {},
   "outputs": [],
   "source": [
    "def evolved_startegy():\n",
    "    population = [\n",
    "        Individual(\n",
    "            fitness=None,\n",
    "            genotype = random_genotype()              \n",
    "        )\n",
    "        for _ in range(POPULATION_SIZE)\n",
    "    ]\n",
    "\n",
    "    for i in population:\n",
    "        i.fitness = fitness(i.genotype)  # Use the fitness function on the nim_move\n",
    "\n",
    "    for generation in range(10):\n",
    "        offspring = list()\n",
    "        for counter in range(OFFSPRING_SIZE):\n",
    "            p1 = select_parent(population)\n",
    "            if random.random() < MUTATION_PROBABILITY:                                  \n",
    "                p1 = mutate(p1)\n",
    "                            \n",
    "            offspring.append(p1)\n",
    "\n",
    "        for i in offspring:\n",
    "            i.fitness = fitness(i.genotype) \n",
    "            \n",
    "        population.extend(offspring)\n",
    "        population.sort(key=lambda i: i.fitness, reverse = True)           \n",
    "        population = population[:POPULATION_SIZE]\n",
    "\n",
    "    # Choose the best individual in the population and return its genotype\n",
    "    print('best ind')\n",
    "    print(population[0].fitness)\n",
    "    print(population[0].genotype)\n",
    "    best_individual = population[0]\n",
    "    return best_individual.genotype"
   ]
  },
  {
   "cell_type": "markdown",
   "metadata": {},
   "source": [
    "## Oversimplified match"
   ]
  },
  {
   "cell_type": "code",
   "execution_count": 84,
   "metadata": {},
   "outputs": [
    {
     "name": "stdout",
     "output_type": "stream",
     "text": [
      "best ind\n",
      "0.6\n",
      "[0.44592888898377847, 0.08738387979706358, 0.46668723121915784]\n",
      " The player who won is\n",
      "1\n"
     ]
    }
   ],
   "source": [
    "\n",
    "\n",
    "chosen_genotype=evolved_startegy()\n",
    "first=1\n",
    "player=play(first,chosen_genotype, pure_random)\n",
    "print(' The player who won is')\n",
    "print(player)\n",
    "\n"
   ]
  }
 ],
 "metadata": {
  "kernelspec": {
   "display_name": "Python 3",
   "language": "python",
   "name": "python3"
  },
  "language_info": {
   "codemirror_mode": {
    "name": "ipython",
    "version": 3
   },
   "file_extension": ".py",
   "mimetype": "text/x-python",
   "name": "python",
   "nbconvert_exporter": "python",
   "pygments_lexer": "ipython3",
   "version": "3.10.2"
  }
 },
 "nbformat": 4,
 "nbformat_minor": 2
}
