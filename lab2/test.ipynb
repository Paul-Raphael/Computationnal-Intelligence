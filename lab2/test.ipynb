{
 "cells": [
  {
   "cell_type": "code",
   "execution_count": 1266,
   "metadata": {},
   "outputs": [],
   "source": [
    "from random import random, choice, randint\n",
    "from collections import namedtuple\n",
    "from pprint import pprint, pformat\n",
    "import random\n",
    "import numpy as np\n",
    "from copy import copy, deepcopy\n",
    "import logging\n",
    "from dataclasses import dataclass\n"
   ]
  },
  {
   "cell_type": "code",
   "execution_count": 1267,
   "metadata": {},
   "outputs": [],
   "source": [
    "Nimply = namedtuple(\"Nimply\", \"row, num_objects\")\n"
   ]
  },
  {
   "cell_type": "code",
   "execution_count": 1268,
   "metadata": {},
   "outputs": [],
   "source": [
    "class Nim:\n",
    "    def __init__(self, num_rows: int, k: int = None) -> None:\n",
    "        self._rows = [i * 2 + 1 for i in range(num_rows)]\n",
    "        self._k = k\n",
    "\n",
    "    def __bool__(self): #The __bool__ method returns True if there are objects remaining in any row, indicating that the game is not over\n",
    "        return sum(self._rows) > 0\n",
    "\n",
    "    def __str__(self):\n",
    "        return \"<\" + \" \".join(str(_) for _ in self._rows) + \">\"\n",
    "\n",
    "    @property\n",
    "    def rows(self) -> tuple:\n",
    "        return tuple(self._rows)\n",
    "\n",
    "    def nimming(self, ply: Nimply) -> None:\n",
    "        row, num_objects = ply\n",
    "        assert self._rows[row] >= num_objects\n",
    "        assert self._k is None or num_objects <= self._k\n",
    "        self._rows[row] -= num_objects\n"
   ]
  },
  {
   "cell_type": "code",
   "execution_count": 1269,
   "metadata": {},
   "outputs": [],
   "source": [
    "def pure_random(state: Nim) -> Nimply:\n",
    "    \"\"\"A completely random move\"\"\"\n",
    "    row = random.choice([r for r, c in enumerate(state.rows) if c > 0])\n",
    "    num_objects = random.randint(1, state.rows[row])\n",
    "    return Nimply(row, num_objects)\n"
   ]
  },
  {
   "cell_type": "code",
   "execution_count": 1270,
   "metadata": {},
   "outputs": [],
   "source": [
    "import numpy as np\n",
    "\n",
    "\n",
    "def nim_sum(state: Nim) -> int:\n",
    "    tmp = np.array([tuple(int(x) for x in f\"{c:032b}\") for c in state.rows])\n",
    "    xor = tmp.sum(axis=0) % 2\n",
    "    return int(\"\".join(str(_) for _ in xor), base=2)\n",
    "\n",
    "\n",
    "def analize(raw: Nim) -> dict:\n",
    "    cooked = dict()\n",
    "    cooked[\"possible_moves\"] = dict()\n",
    "    for ply in (Nimply(r, o) for r, c in enumerate(raw.rows) for o in range(1, c + 1)):\n",
    "        tmp = deepcopy(raw)\n",
    "        tmp.nimming(ply)\n",
    "        cooked[\"possible_moves\"][ply] = nim_sum(tmp)\n",
    "    return cooked\n",
    "\n",
    "\n",
    "def optimal(state: Nim) -> Nimply:\n",
    "    analysis = analize(state)\n",
    "    logging.debug(f\"analysis:\\n{pformat(analysis)}\")\n",
    "    spicy_moves = [ply for ply, ns in analysis[\"possible_moves\"].items() if ns != 0]\n",
    "    if not spicy_moves:\n",
    "        spicy_moves = list(analysis[\"possible_moves\"].keys())\n",
    "    ply = random.choice(spicy_moves)\n",
    "    return ply\n"
   ]
  },
  {
   "cell_type": "markdown",
   "metadata": {},
   "source": [
    "## TASK 1"
   ]
  },
  {
   "cell_type": "code",
   "execution_count": 1271,
   "metadata": {},
   "outputs": [],
   "source": [
    "POPULATION_SIZE = 30\n",
    "OFFSPRING_SIZE = 20\n",
    "TOURNAMENT_SIZE = 2\n",
    "MUTATION_PROBABILITY = .80\n",
    "size_game=4\n"
   ]
  },
  {
   "cell_type": "code",
   "execution_count": 1272,
   "metadata": {},
   "outputs": [],
   "source": [
    "\n",
    "@dataclass\n",
    "class PossibleMove():\n",
    "    nim_move: Nimply\n",
    "    fitness: int\n",
    "    \n",
    "\n",
    "\n",
    "def select_parent(pop):\n",
    "    pool = [choice(pop) for _ in range(TOURNAMENT_SIZE)]        #list of possibleMove elements\n",
    "    champion = max(pool, key=lambda possiblemove: possiblemove.fitness)     #one possibleMove element with the best nim_sum\n",
    "    return champion\n",
    "\n",
    "\n",
    "def mutate(move: PossibleMove, nim_state: Nim) -> PossibleMove:     #mutates the number of objects to remove from the same unchanged row OR mutates the row \n",
    "    offspring = copy(move)\n",
    "\n",
    "    test =offspring.nim_move.num_objects \n",
    "\n",
    "    if(test +1 <= nim_state.rows[offspring.nim_move.row]):\n",
    "        offspring.nim_move=offspring.nim_move._replace(num_objects=offspring.nim_move.num_objects+1)\n",
    "\n",
    "    elif(test == nim_state.rows[offspring.nim_move.row] and test>=2): \n",
    "        offspring.nim_move=offspring.nim_move._replace(num_objects=offspring.nim_move.num_objects-1)\n",
    "\n",
    "\n",
    "\n",
    "    #elif ((offspring.nim_move.num_objects +1)<= nim_state.rows[offspring.nim_move.row] and (offspring.nim_move.num_objects +1)<=nim_state._k):\n",
    "        #offspring.nim_move.num_objects+=1\n",
    "\n",
    "    offspring.fitness = None\n",
    "    return offspring\n",
    "\n",
    "\n"
   ]
  },
  {
   "cell_type": "code",
   "execution_count": 1273,
   "metadata": {},
   "outputs": [],
   "source": [
    "def fitness(nim_state : Nim , move : Nimply):\n",
    "    copy_game= deepcopy(nim_state)\n",
    "    copy_game.nimming(move)\n",
    "    nim_sum_val=nim_sum(copy_game)\n",
    "    incr=0\n",
    "    all_ones=[]\n",
    "    if (nim_sum_val==1):\n",
    "        for element in copy_game._rows:\n",
    "            if element != 0:\n",
    "                incr+=1\n",
    "                all_ones.append(element)\n",
    "\n",
    "        if incr%2 ==1 and sum(1 for element in all_ones if element != 1) ==1:\n",
    "            return -1\n",
    "\n",
    "        \n",
    "    return(nim_sum_val)\n",
    "    "
   ]
  },
  {
   "cell_type": "code",
   "execution_count": 1274,
   "metadata": {},
   "outputs": [],
   "source": [
    "def nimsum_evolved_startegy(nim_state:Nim):\n",
    "    # Create a list of PossibleMove instances, each representing a possible move\n",
    "    population = [\n",
    "        PossibleMove(\n",
    "            fitness=None,\n",
    "            nim_move=pure_random(nim_state)                \n",
    "        )\n",
    "        for _ in range(POPULATION_SIZE)\n",
    "    ]\n",
    "\n",
    "    for i in population:\n",
    "        i.fitness = fitness(nim_state, i.nim_move)  # Use the fitness function on the nim_move\n",
    "\n",
    "    for generation in range(10):\n",
    "        offspring = list()\n",
    "        for counter in range(OFFSPRING_SIZE):\n",
    "            p1 = select_parent(population)\n",
    "            if random.random() < MUTATION_PROBABILITY:     #based on nim_sum                             \n",
    "                p1 = mutate(p1,nim_state)\n",
    "                            \n",
    "            offspring.append(p1)\n",
    "\n",
    "        for i in offspring:\n",
    "            i.fitness = fitness(nim_state, i.nim_move) # Use the fitness function on the nim_move\n",
    "            \n",
    "        population.extend(offspring)\n",
    "        population.sort(key=lambda i: i.fitness)            #I don't think here we should add the parameter \"reverse=True\"\n",
    "        population = population[:POPULATION_SIZE]\n",
    "\n",
    "    population.sort(key=lambda i: i.fitness)\n",
    "    # Choose the best individual in the population and return its nim_move\n",
    "    print('best ind')\n",
    "    print(population[0].fitness)\n",
    "    best_individual = population[0]\n",
    "    return best_individual.nim_move"
   ]
  },
  {
   "cell_type": "markdown",
   "metadata": {},
   "source": [
    "## Oversimplified match"
   ]
  },
  {
   "cell_type": "code",
   "execution_count": 1275,
   "metadata": {},
   "outputs": [
    {
     "name": "stderr",
     "output_type": "stream",
     "text": [
      "INFO:root:ply: player 0 plays Nimply(row=0, num_objects=1)\n",
      "INFO:root:status: <0 3 5 7>\n",
      "INFO:root:ply: player 1 plays Nimply(row=1, num_objects=1)\n",
      "INFO:root:status: <0 2 5 7>\n",
      "INFO:root:ply: player 0 plays Nimply(row=2, num_objects=1)\n",
      "INFO:root:status: <0 2 4 7>\n",
      "INFO:root:ply: player 1 plays Nimply(row=2, num_objects=2)\n",
      "INFO:root:status: <0 2 2 7>\n",
      "INFO:root:ply: player 0 plays Nimply(row=3, num_objects=7)\n",
      "INFO:root:status: <0 2 2 0>\n",
      "INFO:root:ply: player 1 plays Nimply(row=1, num_objects=2)\n",
      "INFO:root:status: <0 0 2 0>\n",
      "INFO:root:ply: player 0 plays Nimply(row=2, num_objects=2)\n",
      "INFO:root:status: <0 0 0 0>\n",
      "INFO:root:status: Player 1 won!\n"
     ]
    },
    {
     "name": "stdout",
     "output_type": "stream",
     "text": [
      "best ind\n",
      "1\n",
      "best ind\n",
      "1\n",
      "best ind\n",
      "0\n",
      "best ind\n",
      "0\n"
     ]
    }
   ],
   "source": [
    "logging.getLogger().setLevel(logging.INFO)\n",
    "\n",
    "\n",
    "# Choose the best PossibleMove in the population and play Nim against the pure random strategy\n",
    "strategy = ( nimsum_evolved_startegy, pure_random)\n",
    "\n",
    "nim = Nim(size_game)\n",
    "player = 0\n",
    "while nim:\n",
    "    ply = strategy[player](nim)\n",
    "    logging.info(f\"ply: player {player} plays {ply}\")\n",
    "    nim.nimming(ply)\n",
    "    logging.info(f\"status: {nim}\")\n",
    "    player = 1 - player\n",
    "logging.info(f\"status: Player {player} won!\")\n"
   ]
  }
 ],
 "metadata": {
  "kernelspec": {
   "display_name": "Python 3",
   "language": "python",
   "name": "python3"
  },
  "language_info": {
   "codemirror_mode": {
    "name": "ipython",
    "version": 3
   },
   "file_extension": ".py",
   "mimetype": "text/x-python",
   "name": "python",
   "nbconvert_exporter": "python",
   "pygments_lexer": "ipython3",
   "version": "3.10.2"
  }
 },
 "nbformat": 4,
 "nbformat_minor": 2
}
